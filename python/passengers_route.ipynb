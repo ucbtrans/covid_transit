{
 "cells": [
  {
   "cell_type": "code",
   "execution_count": 29,
   "metadata": {},
   "outputs": [],
   "source": [
    "import pandas as pd\n",
    "import numpy as np"
   ]
  },
  {
   "cell_type": "code",
   "execution_count": 30,
   "metadata": {},
   "outputs": [],
   "source": [
    "#passengers per stop pay day of week 2020 using CSV\n",
    "import sys\n",
    "import psycopg2\n",
    "import pickle\n",
    "import csv\n",
    "\n",
    "\n",
    "#==============================================================================\n",
    "# Main function\n",
    "#==============================================================================\n",
    "def main(argv):\n",
    "    tbl = 'tridelta'\n",
    "    conn = psycopg2.connect(\"dbname=transit user=postgres\", password=\"postgres\")\n",
    "    cur = conn.cursor()\n",
    "    week = ['0', '1', '2', '3', '4', '5', '6']\n",
    "\n",
    "    dow_passenger=[]\n",
    "    dow_2020=[]\n",
    "    stops_2020=[]\n",
    "    with open(\"tridelta_route_by_passenger_2019_on.csv\",'w', newline='') as f:\n",
    "        writer = csv.writer(f, dialect='excel')\n",
    "        writer.writerow(['Date', 'Route', 'Passengers'])\n",
    "        for dow in week:\n",
    "            stmt = \"SELECT DATE(act_stop_time), route, sum(psgr_on) as passengers from \"\n",
    "            stmt += tbl\n",
    "            stmt += \" WHERE EXTRACT(DOW FROM act_stop_time) = \" + dow\n",
    "            stmt += \" AND act_stop_time >= TO_DATE('2019-01-01', 'YYYY-MM-DD') AND act_stop_time <=  TO_DATE('2019-12-31', 'YYYY-MM-DD')\"\n",
    "            stmt += \" GROUP BY DATE(act_stop_time), route \"\n",
    "            stmt += \" ORDER BY DATE(act_stop_time), passengers;\"\n",
    "\n",
    "            cur.execute(stmt)\n",
    "\n",
    "            result = cur.fetchall()\n",
    "            date=[]\n",
    "            stop_id=[]\n",
    "            passenger=[]\n",
    "            for record in result:\n",
    "                writer.writerow([record[0], record[1], record[2]])\n",
    "\n",
    "    conn.commit()\n",
    "    cur.close()\n",
    "    conn.close()\n",
    "\n",
    "\n",
    "if __name__ == \"__main__\":\n",
    "    main(sys.argv)"
   ]
  },
  {
   "cell_type": "code",
   "execution_count": null,
   "metadata": {},
   "outputs": [],
   "source": []
  }
 ],
 "metadata": {
  "kernelspec": {
   "display_name": "Python 3",
   "language": "python",
   "name": "python3"
  },
  "language_info": {
   "codemirror_mode": {
    "name": "ipython",
    "version": 3
   },
   "file_extension": ".py",
   "mimetype": "text/x-python",
   "name": "python",
   "nbconvert_exporter": "python",
   "pygments_lexer": "ipython3",
   "version": "3.7.10"
  }
 },
 "nbformat": 4,
 "nbformat_minor": 4
}
