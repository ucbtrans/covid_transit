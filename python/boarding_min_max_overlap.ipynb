{
 "cells": [
  {
   "cell_type": "markdown",
   "metadata": {},
   "source": [
    "## Boarding Passengers"
   ]
  },
  {
   "cell_type": "markdown",
   "metadata": {},
   "source": [
    "### Find stops with most and least passengers"
   ]
  },
  {
   "cell_type": "code",
   "execution_count": 128,
   "metadata": {},
   "outputs": [],
   "source": [
    "import numpy as np\n",
    "import pandas as pd\n",
    "from datetime import datetime"
   ]
  },
  {
   "cell_type": "code",
   "execution_count": 129,
   "metadata": {},
   "outputs": [],
   "source": [
    "passenger_2020=pd.read_csv('actransit_stops_by_passenger_2020_on.csv')  \n",
    "passenger_2019=pd.read_csv('actransit_stops_by_passenger_2019_on.csv')\n",
    "pd.to_datetime(passenger_2019['Date'], infer_datetime_format=True)  \n",
    "pd.to_datetime(passenger_2020['Date'], infer_datetime_format=True)  \n",
    "passenger_2020['inputDates'] = pd.to_datetime(passenger_2020['Date'])\n",
    "passenger_2019['inputDates'] = pd.to_datetime(passenger_2019['Date'])\n",
    "passenger_2020['dayOfWeek'] = passenger_2020['inputDates'].dt.day_name()\n",
    "passenger_2019['dayOfWeek'] = passenger_2019['inputDates'].dt.day_name()\n",
    "passenger_2020['Day']=np.where((passenger_2020['dayOfWeek']=='Saturday')|(passenger_2020['dayOfWeek']=='Sunday'), 'weekend', 'weekday')\n",
    "passenger_2019['Day']=np.where((passenger_2019['dayOfWeek']=='Saturday')|(passenger_2019['dayOfWeek']=='Sunday'), 'weekend', 'weekday')"
   ]
  },
  {
   "cell_type": "code",
   "execution_count": 130,
   "metadata": {},
   "outputs": [],
   "source": [
    "passenger_2020_weekday=passenger_2020[passenger_2020['Day']=='weekday']\n",
    "passenger_2019_weekday=passenger_2019[passenger_2019['Day']=='weekday']\n",
    "passenger_2020_weekday_grouped=passenger_2020_weekday.groupby('Stop ID').mean()\n",
    "passenger_2019_weekday_grouped=passenger_2019_weekday.groupby('Stop ID').mean()"
   ]
  },
  {
   "cell_type": "code",
   "execution_count": 131,
   "metadata": {},
   "outputs": [],
   "source": [
    "stops_2020_most_passengers=passenger_2020_weekday_grouped[passenger_2020_weekday_grouped['Passengers']>=200].sort_values('Passengers',ascending=False)\n",
    "stops_2019_most_passengers=passenger_2019_weekday_grouped[passenger_2019_weekday_grouped['Passengers']>=200].sort_values('Passengers',ascending=False)\n",
    "\n",
    "stops_2020_least_passengers=passenger_2020_weekday_grouped[passenger_2020_weekday_grouped['Passengers']<=3].sort_values('Passengers',ascending=True)\n",
    "stops_2019_least_passengers=passenger_2019_weekday_grouped[passenger_2019_weekday_grouped['Passengers']<=3].sort_values('Passengers',ascending=True)"
   ]
  },
  {
   "cell_type": "code",
   "execution_count": 132,
   "metadata": {},
   "outputs": [],
   "source": [
    "stops_2020_most_passengers.to_csv('stops_most_passenger_boarding_2020.csv', index = True, header=True)\n",
    "stops_2019_most_passengers.to_csv('stops_most_passenger_boarding_2019.csv', index = True, header=True)\n",
    "\n",
    "stops_2020_least_passengers.to_csv('stops_least_passenger_boarding_2020.csv', index = True, header=True)\n",
    "stops_2019_least_passengers.to_csv('stops_least_passenger_boarding_2019.csv', index = True, header=True)"
   ]
  },
  {
   "cell_type": "markdown",
   "metadata": {},
   "source": [
    "## Find overlap"
   ]
  },
  {
   "cell_type": "code",
   "execution_count": 133,
   "metadata": {},
   "outputs": [],
   "source": [
    "Bus_stops_19=passenger_2019_weekday['Stop ID']\n",
    "Bus_stops_20=passenger_2020_weekday['Stop ID']\n",
    "common_stops=Bus_stops_19[Bus_stops_19.isin(Bus_stops_20)]"
   ]
  },
  {
   "cell_type": "code",
   "execution_count": 134,
   "metadata": {},
   "outputs": [],
   "source": [
    "passenger_2020_weekday_grouped_common=passenger_2020_weekday_grouped[passenger_2020_weekday_grouped.index.isin(common_stops)]\n",
    "passenger_2019_weekday_grouped_common=passenger_2019_weekday_grouped[passenger_2019_weekday_grouped.index.isin(common_stops)]"
   ]
  },
  {
   "cell_type": "code",
   "execution_count": 135,
   "metadata": {},
   "outputs": [],
   "source": [
    "most_passengers_2020_common=passenger_2020_weekday_grouped_common[passenger_2020_weekday_grouped_common['Passengers']>=200]\n",
    "most_passengers_2019_common=passenger_2019_weekday_grouped_common[passenger_2019_weekday_grouped_common['Passengers']>=200]\n",
    "\n",
    "least_passengers_2020_common=passenger_2020_weekday_grouped_common[passenger_2020_weekday_grouped_common['Passengers']<=3]\n",
    "least_passengers_2019_common=passenger_2019_weekday_grouped_common[passenger_2019_weekday_grouped_common['Passengers']<=3]"
   ]
  },
  {
   "cell_type": "code",
   "execution_count": 136,
   "metadata": {},
   "outputs": [],
   "source": [
    "most_passengers_2020_common=most_passengers_2020_common[most_passengers_2020_common.index.isin(most_passengers_2019_common.index)]\n",
    "most_passengers_2019_common=most_passengers_2019_common[most_passengers_2019_common.index.isin(most_passengers_2020_common.index)]\n",
    "\n",
    "least_passengers_2020_common=least_passengers_2020_common[least_passengers_2020_common.index.isin(least_passengers_2019_common.index)]\n",
    "least_passengers_2019_common=least_passengers_2019_common[least_passengers_2019_common.index.isin(least_passengers_2020_common.index)]"
   ]
  },
  {
   "cell_type": "code",
   "execution_count": 137,
   "metadata": {},
   "outputs": [],
   "source": [
    "most_passengers_2020_common.to_csv('most_passengers_2020_overlap.csv', index = True, header=True)\n",
    "most_passengers_2019_common.to_csv('most_passengers_2019_overlap.csv', index = True, header=True)\n",
    "\n",
    "least_passengers_2020_common.to_csv('least_passengers_2020_overlap.csv', index = True, header=True)\n",
    "least_passengers_2019_common.to_csv('least_passengers_2019_overlap.csv', index = True, header=True)"
   ]
  }
 ],
 "metadata": {
  "kernelspec": {
   "display_name": "Python 3",
   "language": "python",
   "name": "python3"
  },
  "language_info": {
   "codemirror_mode": {
    "name": "ipython",
    "version": 3
   },
   "file_extension": ".py",
   "mimetype": "text/x-python",
   "name": "python",
   "nbconvert_exporter": "python",
   "pygments_lexer": "ipython3",
   "version": "3.7.9"
  }
 },
 "nbformat": 4,
 "nbformat_minor": 4
}
