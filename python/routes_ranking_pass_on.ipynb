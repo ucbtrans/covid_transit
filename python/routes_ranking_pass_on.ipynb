{
 "cells": [
  {
   "cell_type": "code",
   "execution_count": 88,
   "id": "8a8ee10c",
   "metadata": {},
   "outputs": [],
   "source": [
    "import numpy as np\n",
    "import pandas as pd\n",
    "import seaborn as sns\n",
    "import matplotlib.pyplot as plt\n",
    "from datetime import datetime"
   ]
  },
  {
   "cell_type": "code",
   "execution_count": 89,
   "id": "89b85b34",
   "metadata": {},
   "outputs": [],
   "source": [
    "passenger_2020=pd.read_csv('processed_data/Tridelta/tridelta_route_timeseries_2020.csv')  \n",
    "passenger_2019=pd.read_csv('processed_data/Tridelta/tridelta_route_timeseries_2019.csv')\n",
    "stops=pd.read_csv('processed_data/tridelta/tridelta_stops.csv')\n",
    "routes=pd.read_csv('tridelta_routes.csv')\n",
    "pd.to_datetime(passenger_2019['Date'], infer_datetime_format=True)  \n",
    "pd.to_datetime(passenger_2020['Date'], infer_datetime_format=True)  \n",
    "passenger_2020['inputDates'] = pd.to_datetime(passenger_2020['Date'])\n",
    "passenger_2019['inputDates'] = pd.to_datetime(passenger_2019['Date'])\n",
    "passenger_2020['dayOfWeek'] = passenger_2020['inputDates'].dt.day_name()\n",
    "passenger_2019['dayOfWeek'] = passenger_2019['inputDates'].dt.day_name()\n",
    "passenger_2020['Day']=np.where((passenger_2020['dayOfWeek']=='Saturday')|(passenger_2020['dayOfWeek']=='Sunday')|(passenger_2020['dayOfWeek']=='Friday'), 'weekend', 'weekday')\n",
    "passenger_2019['Day']=np.where((passenger_2019['dayOfWeek']=='Saturday')|(passenger_2019['dayOfWeek']=='Sunday')|(passenger_2019['dayOfWeek']=='Friday'), 'weekend', 'weekday')\n",
    "\n",
    "passenger_2020=passenger_2020[passenger_2020['dayOfWeek']!='Friday']\n",
    "passenger_2019=passenger_2019[passenger_2019['dayOfWeek']!='Friday']\n",
    "\n",
    "passenger_2020['Week_Number'] = passenger_2020['inputDates'].dt.strftime('%U')\n",
    "passenger_2019['Week_Number'] = passenger_2019['inputDates'].dt.strftime('%U')\n"
   ]
  },
  {
   "cell_type": "code",
   "execution_count": 90,
   "id": "4294e7ef",
   "metadata": {},
   "outputs": [],
   "source": [
    "passenger_2020_weekday=passenger_2020[passenger_2020['Day']=='weekday']\n",
    "passenger_2019_weekday=passenger_2019[passenger_2019['Day']=='weekday']\n",
    "\n",
    "passenger_2020_weekend=passenger_2020[passenger_2020['Day']=='weekend']\n",
    "passenger_2019_weekend=passenger_2019[passenger_2019['Day']=='weekend']"
   ]
  },
  {
   "cell_type": "markdown",
   "id": "4f87af56",
   "metadata": {},
   "source": [
    "## Max activity 2019 & 2020"
   ]
  },
  {
   "cell_type": "code",
   "execution_count": 91,
   "id": "93e27ab6",
   "metadata": {},
   "outputs": [],
   "source": [
    "passenger_2020_weekday_grouped=passenger_2020_weekday.groupby(['Route']).mean().reset_index()\n",
    "passenger_2019_weekday_grouped=passenger_2019_weekday.groupby(['Route']).mean().reset_index()\n",
    "\n",
    "passenger_2020_weekday_grouped=passenger_2020_weekday_grouped[['Route','Passenger on']]\n",
    "passenger_2019_weekday_grouped=passenger_2019_weekday_grouped[['Route','Passenger on']]\n",
    "\n",
    "passenger_2020_weekend_grouped=passenger_2020_weekend.groupby(['Route','Day']).mean().reset_index()\n",
    "passenger_2019_weekend_grouped=passenger_2019_weekend.groupby(['Route','Day']).mean().reset_index()\n",
    "\n",
    "passenger_2020_weekend_grouped=passenger_2020_weekend_grouped[['Route','Passenger on']]\n",
    "passenger_2019_weekend_grouped=passenger_2019_weekend_grouped[['Route','Passenger on']]"
   ]
  },
  {
   "cell_type": "code",
   "execution_count": 92,
   "id": "475af737",
   "metadata": {},
   "outputs": [],
   "source": [
    "pass_on_week_2020=passenger_2020_weekday_grouped.sort_values(by='Passenger on',ascending=False)\n",
    "routes_pass_on_max_weekday_2020=pass_on_week_2020.iloc[0:10, :]\n",
    "\n",
    "\n",
    "\n",
    "pass_on_weekend_2020=passenger_2020_weekend_grouped.sort_values(by='Passenger on',ascending=False)\n",
    "routes_pass_on_max_weekend_2020=pass_on_weekend_2020.iloc[0:10, :]\n",
    "\n",
    "\n",
    "\n",
    "\n",
    "pass_on_week_2019=passenger_2019_weekday_grouped.sort_values(by='Passenger on',ascending=False)\n",
    "routes_pass_on_max_weekday_2019=pass_on_week_2019.iloc[0:10, :]\n",
    "\n",
    "\n",
    "\n",
    "pass_on_weekend_2019=passenger_2019_weekend_grouped.sort_values(by='Passenger on',ascending=False)\n",
    "routes_pass_on_max_weekend_2019=pass_on_weekend_2019.iloc[0:10, :]\n"
   ]
  },
  {
   "cell_type": "code",
   "execution_count": 93,
   "id": "6d61b161",
   "metadata": {},
   "outputs": [],
   "source": [
    "with pd.ExcelWriter('TRIDELTA_Top_10_Routes_by_avg_pass.xlsx') as writer1:\n",
    "    routes_pass_on_max_weekday_2020.to_excel(writer1, sheet_name='Weekday 2020', index = False)\n",
    "    routes_pass_on_max_weekday_2019.to_excel(writer1, sheet_name='Weekday 2019', index = False)\n",
    "    routes_pass_on_max_weekend_2020.to_excel(writer1, sheet_name='Weekend 2020', index = False)\n",
    "    routes_pass_on_max_weekend_2019.to_excel(writer1, sheet_name='Weekend 2019', index = False)\n",
    "    "
   ]
  },
  {
   "cell_type": "code",
   "execution_count": 94,
   "id": "2b8b4cda",
   "metadata": {},
   "outputs": [],
   "source": [
    "routes_stops_weekday_2020=routes[routes['Route'].isin(routes_pass_on_max_weekday_2020['Route'])]\n",
    "routes_stops_weekday_2019=routes[routes['Route'].isin(routes_pass_on_max_weekday_2019['Route'])]\n",
    "routes_stops_weekend_2020=routes[routes['Route'].isin(routes_pass_on_max_weekend_2020['Route'])]\n",
    "routes_stops_weekday_2020=routes[routes['Route'].isin(routes_pass_on_max_weekday_2020['Route'])]"
   ]
  },
  {
   "cell_type": "code",
   "execution_count": 95,
   "id": "0ded05fb",
   "metadata": {},
   "outputs": [],
   "source": [
    "routes_stops_weekday_2020_merged_tract=routes_stops_weekday_2020.merge(stops,left_on='Stop ID', right_on='stop_id')[['Route', 'Stop ID', 'TRACTCE']]\n",
    "routes_stops_weekday_2019_merged_tract=routes_stops_weekday_2019.merge(stops,left_on='Stop ID', right_on='stop_id')[['Route', 'Stop ID', 'TRACTCE']]\n",
    "\n",
    "routes_stops_weekend_2020_merged_tract=routes_stops_weekend_2020.merge(stops,left_on='Stop ID', right_on='stop_id')[['Route', 'Stop ID', 'TRACTCE']]\n",
    "routes_stops_weekend_2019_merged_tract=routes_stops_weekday_2019.merge(stops,left_on='Stop ID', right_on='stop_id')[['Route', 'Stop ID', 'TRACTCE']]"
   ]
  },
  {
   "cell_type": "code",
   "execution_count": 96,
   "id": "0b8616f7",
   "metadata": {},
   "outputs": [],
   "source": [
    "routes_stops_weekday_2020_merged_tract_grouped=routes_stops_weekday_2020_merged_tract.groupby(['Route'])['TRACTCE'].unique()\n",
    "routes_stops_weekday_2019_merged_tract_grouped=routes_stops_weekday_2019_merged_tract.groupby(['Route'])['TRACTCE'].unique()\n",
    "\n",
    "routes_stops_weekend_2020_merged_tract_grouped=routes_stops_weekend_2020_merged_tract.groupby(['Route'])['TRACTCE'].unique()\n",
    "routes_stops_weekend_2019_merged_tract_grouped=routes_stops_weekend_2019_merged_tract.groupby(['Route'])['TRACTCE'].unique()"
   ]
  },
  {
   "cell_type": "code",
   "execution_count": 97,
   "id": "c59381f2",
   "metadata": {},
   "outputs": [],
   "source": [
    "with pd.ExcelWriter('TRIDELTA_Top_10_Routes_tracts.xlsx') as writer1:\n",
    "    routes_stops_weekday_2020_merged_tract_grouped.to_excel(writer1, sheet_name='Weekday 2020', index = True)\n",
    "    routes_stops_weekday_2019_merged_tract_grouped.to_excel(writer1, sheet_name='Weekday 2019', index = True)\n",
    "    routes_stops_weekend_2020_merged_tract_grouped.to_excel(writer1, sheet_name='Weekend 2020', index = True)\n",
    "    routes_stops_weekend_2019_merged_tract_grouped.to_excel(writer1, sheet_name='Weekend 2019', index = True)"
   ]
  },
  {
   "cell_type": "code",
   "execution_count": null,
   "id": "0d1a447c",
   "metadata": {},
   "outputs": [],
   "source": []
  }
 ],
 "metadata": {
  "kernelspec": {
   "display_name": "Python 3",
   "language": "python",
   "name": "python3"
  },
  "language_info": {
   "codemirror_mode": {
    "name": "ipython",
    "version": 3
   },
   "file_extension": ".py",
   "mimetype": "text/x-python",
   "name": "python",
   "nbconvert_exporter": "python",
   "pygments_lexer": "ipython3",
   "version": "3.7.10"
  }
 },
 "nbformat": 4,
 "nbformat_minor": 5
}
