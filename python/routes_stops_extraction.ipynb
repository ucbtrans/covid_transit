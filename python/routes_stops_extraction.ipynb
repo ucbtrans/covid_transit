{
 "cells": [
  {
   "cell_type": "code",
   "execution_count": 5,
   "metadata": {},
   "outputs": [],
   "source": [
    "import numpy as np\n",
    "import pandas as pd\n",
    "from datetime import datetime"
   ]
  },
  {
   "cell_type": "code",
   "execution_count": 8,
   "metadata": {},
   "outputs": [],
   "source": [
    "import sys\n",
    "import psycopg2\n",
    "import pickle\n",
    "import csv\n",
    "\n",
    "\n",
    "#==============================================================================\n",
    "# Main function\n",
    "#==============================================================================\n",
    "def main(argv):\n",
    "    tbl = 'tridelta'\n",
    "    conn = psycopg2.connect(\"dbname=transit user=postgres\", password=\"postgres\")\n",
    "    cur = conn.cursor()\n",
    "    with open(\"tridelta_routes.csv\",'w', newline='') as f:\n",
    "        writer = csv.writer(f, dialect='excel')\n",
    "        writer.writerow(['Route', 'Stop ID'])\n",
    "        stmt = \"SELECT DISTINCT route, stop_id from \"\n",
    "        stmt += tbl\n",
    "        stmt += \" GROUP BY route, stop_id \"\n",
    "        stmt += \" ORDER BY route, stop_id;\"\n",
    "\n",
    "        cur.execute(stmt)\n",
    "\n",
    "        result = cur.fetchall()\n",
    "        for record in result:\n",
    "            writer.writerow([record[0], record[1]])\n",
    "\n",
    "    conn.commit()\n",
    "    cur.close()\n",
    "    conn.close()\n",
    "\n",
    "\n",
    "if __name__ == \"__main__\":\n",
    "    main(sys.argv)\n",
    "\n"
   ]
  },
  {
   "cell_type": "code",
   "execution_count": null,
   "metadata": {},
   "outputs": [],
   "source": []
  }
 ],
 "metadata": {
  "kernelspec": {
   "display_name": "Python 3",
   "language": "python",
   "name": "python3"
  },
  "language_info": {
   "codemirror_mode": {
    "name": "ipython",
    "version": 3
   },
   "file_extension": ".py",
   "mimetype": "text/x-python",
   "name": "python",
   "nbconvert_exporter": "python",
   "pygments_lexer": "ipython3",
   "version": "3.7.10"
  }
 },
 "nbformat": 4,
 "nbformat_minor": 4
}
