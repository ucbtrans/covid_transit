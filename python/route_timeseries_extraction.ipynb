{
 "cells": [
  {
   "cell_type": "code",
   "execution_count": 11,
   "metadata": {},
   "outputs": [],
   "source": [
    "import numpy as np\n",
    "import pandas as pd\n",
    "from datetime import datetime"
   ]
  },
  {
   "cell_type": "code",
   "execution_count": 12,
   "metadata": {},
   "outputs": [],
   "source": [
    "import sys\n",
    "import psycopg2\n",
    "import pickle\n",
    "import csv\n",
    "\n",
    "\n",
    "#==============================================================================\n",
    "# Main function\n",
    "#==============================================================================\n",
    "def main(argv):\n",
    "    tbl = 'actransit'\n",
    "    conn = psycopg2.connect(\"dbname=transit user=postgres\", password=\"postgres\")\n",
    "    cur = conn.cursor()\n",
    "    with open(\"actransit_route_timeseries_2019.csv\",'w', newline='') as f:\n",
    "        writer = csv.writer(f, dialect='excel')\n",
    "        writer.writerow(['Route', 'Date', 'Hour', 'Passenger on', 'Passenger off','Passenger Load'])\n",
    "        stmt = \"SELECT route,CAST(act_stop_time as DATE) as StartDate, DATE_PART('hour', act_stop_time),SUM(psgr_on) as passenger_on, SUM(psgr_off) as passenger_off, SUM(psgr_load) as passenger_load from \"\n",
    "        stmt += tbl\n",
    "        stmt += \" WHERE act_stop_time >= TO_DATE('2019-09-01', 'YYYY-MM-DD') AND act_stop_time <=  TO_DATE('2019-12-31', 'YYYY-MM-DD')\"\n",
    "        stmt += \" GROUP BY route, CAST(act_stop_time as DATE), DATE_PART('hour', act_stop_time) \"\n",
    "        stmt += \" ORDER BY CAST(act_stop_time as DATE) ASC;\"\n",
    "\n",
    "        cur.execute(stmt)\n",
    "\n",
    "        result = cur.fetchall()\n",
    "        for record in result:\n",
    "            writer.writerow([record[0], record[1], record[2], record[3], record[4], record[5]])\n",
    "\n",
    "    conn.commit()\n",
    "    cur.close()\n",
    "    conn.close()\n",
    "\n",
    "\n",
    "if __name__ == \"__main__\":\n",
    "    main(sys.argv)\n",
    "\n"
   ]
  },
  {
   "cell_type": "code",
   "execution_count": null,
   "metadata": {},
   "outputs": [],
   "source": []
  }
 ],
 "metadata": {
  "kernelspec": {
   "display_name": "Python 3",
   "language": "python",
   "name": "python3"
  },
  "language_info": {
   "codemirror_mode": {
    "name": "ipython",
    "version": 3
   },
   "file_extension": ".py",
   "mimetype": "text/x-python",
   "name": "python",
   "nbconvert_exporter": "python",
   "pygments_lexer": "ipython3",
   "version": "3.7.10"
  }
 },
 "nbformat": 4,
 "nbformat_minor": 4
}
